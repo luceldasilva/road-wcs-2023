{
 "cells": [
  {
   "cell_type": "code",
   "execution_count": 1,
   "id": "e7e22466-e1e3-416d-9d60-aa45233978b6",
   "metadata": {},
   "outputs": [],
   "source": [
    "%run setup.py"
   ]
  },
  {
   "cell_type": "code",
   "execution_count": 3,
   "id": "bafb682b-0867-4233-9e62-cb64b82cd598",
   "metadata": {},
   "outputs": [
    {
     "name": "stderr",
     "output_type": "stream",
     "text": [
      "2023-05-22 17:12:33,153 INFO     Conexión exitosa.\n",
      "2023-05-22 17:12:33,157 INFO     Versión del servidor de PostgreSQL: ('PostgreSQL 13.8, compiled by Visual C++ build 1914, 64-bit',)\n"
     ]
    }
   ],
   "source": [
    "connection_psql()"
   ]
  },
  {
   "cell_type": "code",
   "execution_count": 4,
   "id": "9229c642-c1ef-4ff7-83a9-c5f59dfc4265",
   "metadata": {},
   "outputs": [
    {
     "name": "stderr",
     "output_type": "stream",
     "text": [
      "2023-05-22 17:12:55,641 INFO     La conexión ha finalizado.\n"
     ]
    }
   ],
   "source": [
    "turn_off_engine()"
   ]
  },
  {
   "cell_type": "code",
   "execution_count": null,
   "id": "e3d46ae1-8d47-4c90-818d-eda9e104a329",
   "metadata": {},
   "outputs": [],
   "source": []
  }
 ],
 "metadata": {
  "kernelspec": {
   "display_name": "Python 3 (ipykernel)",
   "language": "python",
   "name": "python3"
  },
  "language_info": {
   "codemirror_mode": {
    "name": "ipython",
    "version": 3
   },
   "file_extension": ".py",
   "mimetype": "text/x-python",
   "name": "python",
   "nbconvert_exporter": "python",
   "pygments_lexer": "ipython3",
   "version": "3.11.2"
  }
 },
 "nbformat": 4,
 "nbformat_minor": 5
}
